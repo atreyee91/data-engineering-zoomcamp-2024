{
 "cells": [
  {
   "cell_type": "code",
   "execution_count": 3,
   "id": "d315f74e",
   "metadata": {},
   "outputs": [
    {
     "name": "stdout",
     "output_type": "stream",
     "text": [
      "Collecting dlt[duckdb]\n",
      "  Obtaining dependency information for dlt[duckdb] from https://files.pythonhosted.org/packages/5b/0a/3bcfec9a96d8f77b0cd8e3ce34ab452a92bcddfb5398b008e2ea2ae2a5a0/dlt-0.4.4-py3-none-any.whl.metadata\n",
      "  Downloading dlt-0.4.4-py3-none-any.whl.metadata (9.7 kB)\n",
      "Requirement already satisfied: PyYAML>=5.4.1 in c:\\programdata\\anaconda3\\lib\\site-packages (from dlt[duckdb]) (6.0)\n",
      "Requirement already satisfied: SQLAlchemy>=1.4.0 in c:\\programdata\\anaconda3\\lib\\site-packages (from dlt[duckdb]) (1.4.39)\n",
      "Collecting astunparse>=1.6.3 (from dlt[duckdb])\n",
      "  Downloading astunparse-1.6.3-py2.py3-none-any.whl (12 kB)\n",
      "Requirement already satisfied: click>=7.1 in c:\\programdata\\anaconda3\\lib\\site-packages (from dlt[duckdb]) (8.0.4)\n",
      "Collecting duckdb<0.10.0,>=0.6.1 (from dlt[duckdb])\n",
      "  Obtaining dependency information for duckdb<0.10.0,>=0.6.1 from https://files.pythonhosted.org/packages/a6/7a/e15904563fa63d7d3cc542a697377486ddea8ba4914810391812ffefc9b1/duckdb-0.9.2-cp311-cp311-win_amd64.whl.metadata\n",
      "  Downloading duckdb-0.9.2-cp311-cp311-win_amd64.whl.metadata (798 bytes)\n",
      "Requirement already satisfied: fsspec>=2022.4.0 in c:\\programdata\\anaconda3\\lib\\site-packages (from dlt[duckdb]) (2023.4.0)\n",
      "Collecting gitpython>=3.1.29 (from dlt[duckdb])\n",
      "  Obtaining dependency information for gitpython>=3.1.29 from https://files.pythonhosted.org/packages/67/c7/995360c87dd74e27539ccbfecddfb58e08f140d849fcd7f35d2ed1a5f80f/GitPython-3.1.42-py3-none-any.whl.metadata\n",
      "  Downloading GitPython-3.1.42-py3-none-any.whl.metadata (12 kB)\n",
      "Collecting giturlparse>=0.10.0 (from dlt[duckdb])\n",
      "  Obtaining dependency information for giturlparse>=0.10.0 from https://files.pythonhosted.org/packages/dd/94/c6ff3388b8e3225a014e55aed957188639aa0966443e0408d38f0c9614a7/giturlparse-0.12.0-py2.py3-none-any.whl.metadata\n",
      "  Downloading giturlparse-0.12.0-py2.py3-none-any.whl.metadata (4.5 kB)\n",
      "Collecting hexbytes>=0.2.2 (from dlt[duckdb])\n",
      "  Obtaining dependency information for hexbytes>=0.2.2 from https://files.pythonhosted.org/packages/73/99/f6beab7c3fe2ad62f6763a5e92af476225d74408b2588fe5614a67c63ee4/hexbytes-1.0.0-py3-none-any.whl.metadata\n",
      "  Downloading hexbytes-1.0.0-py3-none-any.whl.metadata (5.3 kB)\n",
      "Collecting humanize>=4.4.0 (from dlt[duckdb])\n",
      "  Obtaining dependency information for humanize>=4.4.0 from https://files.pythonhosted.org/packages/aa/2b/2ae0c789fd08d5b44e745726d08a17e6d3d7d09071d05473105edc7615f2/humanize-4.9.0-py3-none-any.whl.metadata\n",
      "  Downloading humanize-4.9.0-py3-none-any.whl.metadata (7.9 kB)\n",
      "Collecting jsonpath-ng>=1.5.3 (from dlt[duckdb])\n",
      "  Obtaining dependency information for jsonpath-ng>=1.5.3 from https://files.pythonhosted.org/packages/16/0a/3b1ee3721b4bd684b0e29c724ab82ed3b2c0e42285beb8bf9e18de8c903f/jsonpath_ng-1.6.1-py3-none-any.whl.metadata\n",
      "  Downloading jsonpath_ng-1.6.1-py3-none-any.whl.metadata (18 kB)\n",
      "Collecting makefun>=1.15.0 (from dlt[duckdb])\n",
      "  Obtaining dependency information for makefun>=1.15.0 from https://files.pythonhosted.org/packages/47/45/51d50062d95a0c2fd8f5f1cc8849878ea5c76d2f6a049a0b9d449272e97f/makefun-1.15.2-py2.py3-none-any.whl.metadata\n",
      "  Downloading makefun-1.15.2-py2.py3-none-any.whl.metadata (3.0 kB)\n",
      "Collecting orjson<=3.9.10,>=3.6.7 (from dlt[duckdb])\n",
      "  Obtaining dependency information for orjson<=3.9.10,>=3.6.7 from https://files.pythonhosted.org/packages/5d/67/d7837cf0ac956e3c81c67dda3e8f2ffc60dd50ffc480ec7c17f2e22a36ae/orjson-3.9.10-cp311-none-win_amd64.whl.metadata\n",
      "  Downloading orjson-3.9.10-cp311-none-win_amd64.whl.metadata (50 kB)\n",
      "     ---------------------------------------- 0.0/50.5 kB ? eta -:--:--\n",
      "     ---------------------------------------- 50.5/50.5 kB 2.5 MB/s eta 0:00:00\n",
      "Requirement already satisfied: packaging>=21.1 in c:\\programdata\\anaconda3\\lib\\site-packages (from dlt[duckdb]) (23.1)\n",
      "Collecting pathvalidate>=2.5.2 (from dlt[duckdb])\n",
      "  Obtaining dependency information for pathvalidate>=2.5.2 from https://files.pythonhosted.org/packages/0c/ab/673cce13ab635fd755d206b18c0a371ef6e28ddbe25fadba9ae6c59f22a5/pathvalidate-3.2.0-py3-none-any.whl.metadata\n",
      "  Downloading pathvalidate-3.2.0-py3-none-any.whl.metadata (11 kB)\n",
      "Requirement already satisfied: pendulum>=2.1.2 in c:\\programdata\\anaconda3\\lib\\site-packages (from dlt[duckdb]) (2.1.2)\n",
      "Requirement already satisfied: pytz>=2022.6 in c:\\programdata\\anaconda3\\lib\\site-packages (from dlt[duckdb]) (2023.3.post1)\n",
      "Requirement already satisfied: requests>=2.26.0 in c:\\programdata\\anaconda3\\lib\\site-packages (from dlt[duckdb]) (2.31.0)\n",
      "Collecting requirements-parser>=0.5.0 (from dlt[duckdb])\n",
      "  Downloading requirements_parser-0.5.0-py3-none-any.whl (18 kB)\n",
      "Collecting semver>=2.13.0 (from dlt[duckdb])\n",
      "  Obtaining dependency information for semver>=2.13.0 from https://files.pythonhosted.org/packages/9a/77/0cc7a8a3bc7e53d07e8f47f147b92b0960e902b8254859f4aee5c4d7866b/semver-3.0.2-py3-none-any.whl.metadata\n",
      "  Downloading semver-3.0.2-py3-none-any.whl.metadata (5.0 kB)\n",
      "Requirement already satisfied: setuptools>=65.6.0 in c:\\programdata\\anaconda3\\lib\\site-packages (from dlt[duckdb]) (68.0.0)\n",
      "Collecting simplejson>=3.17.5 (from dlt[duckdb])\n",
      "  Obtaining dependency information for simplejson>=3.17.5 from https://files.pythonhosted.org/packages/b6/8e/3e12d122dfdf549a8d12eaf39954ee39f2027060aa38b63430f8ab3244e7/simplejson-3.19.2-cp311-cp311-win_amd64.whl.metadata\n",
      "  Downloading simplejson-3.19.2-cp311-cp311-win_amd64.whl.metadata (3.2 kB)\n",
      "Requirement already satisfied: tenacity>=8.0.2 in c:\\programdata\\anaconda3\\lib\\site-packages (from dlt[duckdb]) (8.2.2)\n",
      "Collecting tomlkit>=0.11.3 (from dlt[duckdb])\n",
      "  Obtaining dependency information for tomlkit>=0.11.3 from https://files.pythonhosted.org/packages/6e/43/159750d32481f16e34cc60090b53bc0a14314ad0c1f67a9bb64f3f3a0551/tomlkit-0.12.3-py3-none-any.whl.metadata\n",
      "  Downloading tomlkit-0.12.3-py3-none-any.whl.metadata (2.7 kB)\n",
      "Requirement already satisfied: typing-extensions>=4.0.0 in c:\\programdata\\anaconda3\\lib\\site-packages (from dlt[duckdb]) (4.7.1)\n",
      "Requirement already satisfied: tzdata>=2022.1 in c:\\programdata\\anaconda3\\lib\\site-packages (from dlt[duckdb]) (2023.3)\n",
      "Collecting win-precise-time>=1.4.2 (from dlt[duckdb])\n",
      "  Obtaining dependency information for win-precise-time>=1.4.2 from https://files.pythonhosted.org/packages/f9/9c/46d69220d468c82ca2044284c5a8089705c5eb66be416abcbba156365a14/win_precise_time-1.4.2-cp311-cp311-win_amd64.whl.metadata\n",
      "  Downloading win_precise_time-1.4.2-cp311-cp311-win_amd64.whl.metadata (3.0 kB)\n",
      "Requirement already satisfied: wheel<1.0,>=0.23.0 in c:\\programdata\\anaconda3\\lib\\site-packages (from astunparse>=1.6.3->dlt[duckdb]) (0.38.4)\n",
      "Requirement already satisfied: six<2.0,>=1.6.1 in c:\\programdata\\anaconda3\\lib\\site-packages (from astunparse>=1.6.3->dlt[duckdb]) (1.16.0)\n",
      "Requirement already satisfied: colorama in c:\\programdata\\anaconda3\\lib\\site-packages (from click>=7.1->dlt[duckdb]) (0.4.6)\n",
      "Collecting gitdb<5,>=4.0.1 (from gitpython>=3.1.29->dlt[duckdb])\n",
      "  Obtaining dependency information for gitdb<5,>=4.0.1 from https://files.pythonhosted.org/packages/fd/5b/8f0c4a5bb9fd491c277c21eff7ccae71b47d43c4446c9d0c6cff2fe8c2c4/gitdb-4.0.11-py3-none-any.whl.metadata\n",
      "  Downloading gitdb-4.0.11-py3-none-any.whl.metadata (1.2 kB)\n",
      "Requirement already satisfied: ply in c:\\programdata\\anaconda3\\lib\\site-packages (from jsonpath-ng>=1.5.3->dlt[duckdb]) (3.11)\n",
      "Requirement already satisfied: python-dateutil<3.0,>=2.6 in c:\\programdata\\anaconda3\\lib\\site-packages (from pendulum>=2.1.2->dlt[duckdb]) (2.8.2)\n",
      "Requirement already satisfied: pytzdata>=2020.1 in c:\\programdata\\anaconda3\\lib\\site-packages (from pendulum>=2.1.2->dlt[duckdb]) (2020.1)\n",
      "Requirement already satisfied: charset-normalizer<4,>=2 in c:\\programdata\\anaconda3\\lib\\site-packages (from requests>=2.26.0->dlt[duckdb]) (2.0.4)\n",
      "Requirement already satisfied: idna<4,>=2.5 in c:\\programdata\\anaconda3\\lib\\site-packages (from requests>=2.26.0->dlt[duckdb]) (3.4)\n",
      "Requirement already satisfied: urllib3<3,>=1.21.1 in c:\\programdata\\anaconda3\\lib\\site-packages (from requests>=2.26.0->dlt[duckdb]) (1.26.16)\n",
      "Requirement already satisfied: certifi>=2017.4.17 in c:\\programdata\\anaconda3\\lib\\site-packages (from requests>=2.26.0->dlt[duckdb]) (2024.2.2)\n",
      "Collecting types-setuptools>=57.0.0 (from requirements-parser>=0.5.0->dlt[duckdb])\n",
      "  Obtaining dependency information for types-setuptools>=57.0.0 from https://files.pythonhosted.org/packages/b0/9f/ea652206f791959f7f743a06ce491b10675c5f542d4bde7c415e8644b83a/types_setuptools-69.1.0.20240217-py3-none-any.whl.metadata\n",
      "  Downloading types_setuptools-69.1.0.20240217-py3-none-any.whl.metadata (1.6 kB)\n",
      "Requirement already satisfied: greenlet!=0.4.17 in c:\\programdata\\anaconda3\\lib\\site-packages (from SQLAlchemy>=1.4.0->dlt[duckdb]) (2.0.1)\n",
      "Collecting smmap<6,>=3.0.1 (from gitdb<5,>=4.0.1->gitpython>=3.1.29->dlt[duckdb])\n",
      "  Obtaining dependency information for smmap<6,>=3.0.1 from https://files.pythonhosted.org/packages/a7/a5/10f97f73544edcdef54409f1d839f6049a0d79df68adbc1ceb24d1aaca42/smmap-5.0.1-py3-none-any.whl.metadata\n",
      "  Downloading smmap-5.0.1-py3-none-any.whl.metadata (4.3 kB)\n",
      "Downloading duckdb-0.9.2-cp311-cp311-win_amd64.whl (10.3 MB)\n",
      "   ---------------------------------------- 0.0/10.3 MB ? eta -:--:--\n",
      "   - -------------------------------------- 0.4/10.3 MB 12.9 MB/s eta 0:00:01\n",
      "   --- ------------------------------------ 0.9/10.3 MB 11.4 MB/s eta 0:00:01\n",
      "   ----- ---------------------------------- 1.5/10.3 MB 11.6 MB/s eta 0:00:01\n",
      "   ------- -------------------------------- 2.0/10.3 MB 11.6 MB/s eta 0:00:01\n",
      "   --------- ------------------------------ 2.5/10.3 MB 11.5 MB/s eta 0:00:01\n",
      "   ------------ --------------------------- 3.1/10.3 MB 11.8 MB/s eta 0:00:01\n",
      "   ------------ --------------------------- 3.1/10.3 MB 11.8 MB/s eta 0:00:01\n",
      "   ------------ --------------------------- 3.1/10.3 MB 11.8 MB/s eta 0:00:01\n",
      "   ------------ --------------------------- 3.1/10.3 MB 11.8 MB/s eta 0:00:01\n",
      "   ------------ --------------------------- 3.1/10.3 MB 11.8 MB/s eta 0:00:01\n",
      "   ------------ --------------------------- 3.1/10.3 MB 11.8 MB/s eta 0:00:01\n",
      "   ------------ --------------------------- 3.1/10.3 MB 11.8 MB/s eta 0:00:01\n",
      "   ------------ --------------------------- 3.1/10.3 MB 11.8 MB/s eta 0:00:01\n",
      "   ------------ --------------------------- 3.1/10.3 MB 11.8 MB/s eta 0:00:01\n",
      "   ------------ --------------------------- 3.1/10.3 MB 11.8 MB/s eta 0:00:01\n",
      "   ------------ --------------------------- 3.1/10.3 MB 11.8 MB/s eta 0:00:01\n",
      "   ------------ --------------------------- 3.1/10.3 MB 11.8 MB/s eta 0:00:01\n",
      "   ------------ --------------------------- 3.1/10.3 MB 11.8 MB/s eta 0:00:01\n",
      "   ------------ --------------------------- 3.1/10.3 MB 11.8 MB/s eta 0:00:01\n",
      "   ------------ --------------------------- 3.1/10.3 MB 11.8 MB/s eta 0:00:01\n",
      "   ------------ --------------------------- 3.1/10.3 MB 11.8 MB/s eta 0:00:01\n",
      "   ------------ --------------------------- 3.1/10.3 MB 11.8 MB/s eta 0:00:01\n",
      "   ------------ --------------------------- 3.1/10.3 MB 11.8 MB/s eta 0:00:01\n",
      "   ------------- -------------------------- 3.4/10.3 MB 3.1 MB/s eta 0:00:03\n",
      "   --------------- ------------------------ 3.9/10.3 MB 3.4 MB/s eta 0:00:02\n",
      "   ---------------- ----------------------- 4.3/10.3 MB 3.6 MB/s eta 0:00:02\n",
      "   ------------------ --------------------- 4.8/10.3 MB 3.8 MB/s eta 0:00:02\n",
      "   -------------------- ------------------- 5.3/10.3 MB 4.1 MB/s eta 0:00:02\n",
      "   ---------------------- ----------------- 5.8/10.3 MB 4.3 MB/s eta 0:00:02\n",
      "   ------------------------ --------------- 6.3/10.3 MB 4.5 MB/s eta 0:00:01\n",
      "   --------------------------- ------------ 7.1/10.3 MB 4.9 MB/s eta 0:00:01\n",
      "   ---------------------------- ----------- 7.3/10.3 MB 5.0 MB/s eta 0:00:01\n",
      "   ---------------------------- ----------- 7.3/10.3 MB 5.0 MB/s eta 0:00:01\n",
      "   ---------------------------- ----------- 7.3/10.3 MB 5.0 MB/s eta 0:00:01\n",
      "   ---------------------------- ----------- 7.3/10.3 MB 5.0 MB/s eta 0:00:01\n",
      "   ---------------------------- ----------- 7.3/10.3 MB 5.0 MB/s eta 0:00:01\n",
      "   ---------------------------- ----------- 7.3/10.3 MB 5.0 MB/s eta 0:00:01\n",
      "   ---------------------------- ----------- 7.3/10.3 MB 5.0 MB/s eta 0:00:01\n",
      "   ---------------------------- ----------- 7.3/10.3 MB 5.0 MB/s eta 0:00:01\n",
      "   ---------------------------- ----------- 7.3/10.3 MB 5.0 MB/s eta 0:00:01\n",
      "   ---------------------------- ----------- 7.3/10.3 MB 5.0 MB/s eta 0:00:01\n",
      "   ---------------------------- ----------- 7.3/10.3 MB 5.0 MB/s eta 0:00:01\n",
      "   ---------------------------- ----------- 7.3/10.3 MB 5.0 MB/s eta 0:00:01\n",
      "   ---------------------------- ----------- 7.3/10.3 MB 5.0 MB/s eta 0:00:01\n",
      "   ---------------------------- ----------- 7.3/10.3 MB 5.0 MB/s eta 0:00:01\n",
      "   ---------------------------- ----------- 7.3/10.3 MB 5.0 MB/s eta 0:00:01\n",
      "   ---------------------------- ----------- 7.3/10.3 MB 5.0 MB/s eta 0:00:01\n",
      "   ---------------------------- ----------- 7.3/10.3 MB 5.0 MB/s eta 0:00:01\n",
      "   ---------------------------- ----------- 7.3/10.3 MB 5.0 MB/s eta 0:00:01\n",
      "   ---------------------------- ----------- 7.3/10.3 MB 5.0 MB/s eta 0:00:01\n",
      "   ---------------------------- ----------- 7.3/10.3 MB 5.0 MB/s eta 0:00:01\n",
      "   ---------------------------- ----------- 7.3/10.3 MB 5.0 MB/s eta 0:00:01\n",
      "   ---------------------------- ----------- 7.3/10.3 MB 5.0 MB/s eta 0:00:01\n",
      "   ---------------------------- ----------- 7.3/10.3 MB 5.0 MB/s eta 0:00:01\n",
      "   ---------------------------- ----------- 7.3/10.3 MB 5.0 MB/s eta 0:00:01\n",
      "   ---------------------------- ----------- 7.3/10.3 MB 5.0 MB/s eta 0:00:01\n",
      "   ---------------------------- ----------- 7.3/10.3 MB 5.0 MB/s eta 0:00:01\n",
      "   ---------------------------- ----------- 7.3/10.3 MB 5.0 MB/s eta 0:00:01\n",
      "   ---------------------------- ----------- 7.3/10.3 MB 5.0 MB/s eta 0:00:01\n",
      "   ---------------------------- ----------- 7.3/10.3 MB 5.0 MB/s eta 0:00:01\n",
      "   ---------------------------- ----------- 7.3/10.3 MB 5.0 MB/s eta 0:00:01\n",
      "   ---------------------------- ----------- 7.3/10.3 MB 5.0 MB/s eta 0:00:01\n",
      "   ------------------------------ --------- 7.8/10.3 MB 2.7 MB/s eta 0:00:01\n",
      "   --------------------------------- ------ 8.6/10.3 MB 2.9 MB/s eta 0:00:01\n",
      "   ------------------------------------ --- 9.3/10.3 MB 3.1 MB/s eta 0:00:01\n",
      "   -------------------------------------- - 10.0/10.3 MB 3.3 MB/s eta 0:00:01\n",
      "   ---------------------------------------  10.3/10.3 MB 3.3 MB/s eta 0:00:01\n",
      "   ---------------------------------------- 10.3/10.3 MB 3.3 MB/s eta 0:00:00\n",
      "Downloading GitPython-3.1.42-py3-none-any.whl (195 kB)\n",
      "   ---------------------------------------- 0.0/195.4 kB ? eta -:--:--\n",
      "   --------------------------------------- 195.4/195.4 kB 11.6 MB/s eta 0:00:00\n",
      "Downloading giturlparse-0.12.0-py2.py3-none-any.whl (15 kB)\n",
      "Downloading hexbytes-1.0.0-py3-none-any.whl (5.9 kB)\n",
      "Downloading humanize-4.9.0-py3-none-any.whl (126 kB)\n",
      "   ---------------------------------------- 0.0/126.8 kB ? eta -:--:--\n",
      "   ---------------------------------------- 126.8/126.8 kB 7.3 MB/s eta 0:00:00\n",
      "Downloading jsonpath_ng-1.6.1-py3-none-any.whl (29 kB)\n",
      "Downloading makefun-1.15.2-py2.py3-none-any.whl (22 kB)\n",
      "Downloading orjson-3.9.10-cp311-none-win_amd64.whl (135 kB)\n",
      "   ---------------------------------------- 0.0/135.0 kB ? eta -:--:--\n",
      "   ---------------------------------------- 135.0/135.0 kB ? eta 0:00:00\n",
      "Downloading pathvalidate-3.2.0-py3-none-any.whl (23 kB)\n",
      "Downloading semver-3.0.2-py3-none-any.whl (17 kB)\n",
      "Downloading simplejson-3.19.2-cp311-cp311-win_amd64.whl (75 kB)\n",
      "   ---------------------------------------- 0.0/75.3 kB ? eta -:--:--\n",
      "   ---------------------------------------- 75.3/75.3 kB 4.3 MB/s eta 0:00:00\n",
      "Downloading tomlkit-0.12.3-py3-none-any.whl (37 kB)\n",
      "Downloading win_precise_time-1.4.2-cp311-cp311-win_amd64.whl (14 kB)\n",
      "Downloading dlt-0.4.4-py3-none-any.whl (540 kB)\n",
      "   ---------------------------------------- 0.0/540.7 kB ? eta -:--:--\n",
      "   --------------------------------------- 540.7/540.7 kB 17.1 MB/s eta 0:00:00\n",
      "Downloading gitdb-4.0.11-py3-none-any.whl (62 kB)\n",
      "   ---------------------------------------- 0.0/62.7 kB ? eta -:--:--\n",
      "   ---------------------------------------- 62.7/62.7 kB 3.3 MB/s eta 0:00:00\n",
      "Downloading types_setuptools-69.1.0.20240217-py3-none-any.whl (51 kB)\n",
      "   ---------------------------------------- 0.0/51.8 kB ? eta -:--:--\n",
      "   ---------------------------------------- 51.8/51.8 kB ? eta 0:00:00\n",
      "Downloading smmap-5.0.1-py3-none-any.whl (24 kB)\n",
      "Installing collected packages: makefun, win-precise-time, types-setuptools, tomlkit, smmap, simplejson, semver, pathvalidate, orjson, jsonpath-ng, humanize, hexbytes, giturlparse, duckdb, astunparse, requirements-parser, gitdb, gitpython, dlt\n",
      "  Attempting uninstall: tomlkit\n",
      "    Found existing installation: tomlkit 0.11.1\n",
      "    Uninstalling tomlkit-0.11.1:\n",
      "      Successfully uninstalled tomlkit-0.11.1\n",
      "Successfully installed astunparse-1.6.3 dlt-0.4.4 duckdb-0.9.2 gitdb-4.0.11 gitpython-3.1.42 giturlparse-0.12.0 hexbytes-1.0.0 humanize-4.9.0 jsonpath-ng-1.6.1 makefun-1.15.2 orjson-3.9.10 pathvalidate-3.2.0 requirements-parser-0.5.0 semver-3.0.2 simplejson-3.19.2 smmap-5.0.1 tomlkit-0.12.3 types-setuptools-69.1.0.20240217 win-precise-time-1.4.2\n",
      "Note: you may need to restart the kernel to use updated packages.\n"
     ]
    }
   ],
   "source": [
    "pip install dlt[duckdb]"
   ]
  },
  {
   "cell_type": "code",
   "execution_count": 4,
   "id": "868ceae6",
   "metadata": {},
   "outputs": [],
   "source": [
    "import dlt"
   ]
  },
  {
   "cell_type": "markdown",
   "id": "e016eac9",
   "metadata": {},
   "source": [
    "# Use a generator"
   ]
  },
  {
   "cell_type": "code",
   "execution_count": 5,
   "id": "a17094f4",
   "metadata": {},
   "outputs": [],
   "source": [
    "def square_root_generator(limit):\n",
    "    n = 1\n",
    "    while n <= limit:\n",
    "        yield n ** 0.5\n",
    "        n += 1"
   ]
  },
  {
   "cell_type": "code",
   "execution_count": 13,
   "id": "2f0ff2e5",
   "metadata": {},
   "outputs": [
    {
     "name": "stdout",
     "output_type": "stream",
     "text": [
      "8.382332347441762\n"
     ]
    }
   ],
   "source": [
    "# Example usage:\n",
    "limit = 5\n",
    "generator = square_root_generator(limit)\n",
    "r=0\n",
    "\n",
    "for sqrt_value in generator:\n",
    "    r=r+sqrt_value\n",
    "\n",
    "print(r)"
   ]
  },
  {
   "cell_type": "code",
   "execution_count": 14,
   "id": "30085566",
   "metadata": {},
   "outputs": [
    {
     "name": "stdout",
     "output_type": "stream",
     "text": [
      "1.0\n",
      "1.4142135623730951\n",
      "1.7320508075688772\n",
      "2.0\n",
      "2.23606797749979\n",
      "2.449489742783178\n",
      "2.6457513110645907\n",
      "2.8284271247461903\n",
      "3.0\n",
      "3.1622776601683795\n",
      "3.3166247903554\n",
      "3.4641016151377544\n",
      "3.605551275463989\n"
     ]
    }
   ],
   "source": [
    "# Example usage:\n",
    "limit = 13\n",
    "generator = square_root_generator(limit)\n",
    "r=0\n",
    "\n",
    "for sqrt_value in generator:\n",
    "    print(sqrt_value)"
   ]
  },
  {
   "cell_type": "markdown",
   "id": "4cc011fc",
   "metadata": {},
   "source": [
    "# Append a generator to a table with existing data"
   ]
  },
  {
   "cell_type": "code",
   "execution_count": 64,
   "id": "8962a68a",
   "metadata": {},
   "outputs": [
    {
     "name": "stdout",
     "output_type": "stream",
     "text": [
      "{'ID': 1, 'Name': 'Person_1', 'Age': 26, 'City': 'City_A'}\n",
      "{'ID': 2, 'Name': 'Person_2', 'Age': 27, 'City': 'City_A'}\n",
      "{'ID': 3, 'Name': 'Person_3', 'Age': 28, 'City': 'City_A'}\n",
      "{'ID': 4, 'Name': 'Person_4', 'Age': 29, 'City': 'City_A'}\n",
      "{'ID': 5, 'Name': 'Person_5', 'Age': 30, 'City': 'City_A'}\n"
     ]
    }
   ],
   "source": [
    "def people_1():\n",
    "    for i in range(1, 6):\n",
    "        yield {\"ID\": i, \"Name\": f\"Person_{i}\", \"Age\": 25 + i, \"City\": \"City_A\"}\n",
    "\n",
    "for person in people_1():\n",
    "    print(person)"
   ]
  },
  {
   "cell_type": "code",
   "execution_count": 63,
   "id": "c2ec0c9e",
   "metadata": {},
   "outputs": [
    {
     "name": "stdout",
     "output_type": "stream",
     "text": [
      "140\n"
     ]
    }
   ],
   "source": [
    "r=0\n",
    "for person in people_1():\n",
    "    r=r+person['Age']\n",
    "print(r)"
   ]
  },
  {
   "cell_type": "code",
   "execution_count": 18,
   "id": "02503764",
   "metadata": {},
   "outputs": [
    {
     "name": "stdout",
     "output_type": "stream",
     "text": [
      "{'ID': 3, 'Name': 'Person_3', 'Age': 33, 'City': 'City_B', 'Occupation': 'Job_3'}\n",
      "{'ID': 4, 'Name': 'Person_4', 'Age': 34, 'City': 'City_B', 'Occupation': 'Job_4'}\n",
      "{'ID': 5, 'Name': 'Person_5', 'Age': 35, 'City': 'City_B', 'Occupation': 'Job_5'}\n",
      "{'ID': 6, 'Name': 'Person_6', 'Age': 36, 'City': 'City_B', 'Occupation': 'Job_6'}\n",
      "{'ID': 7, 'Name': 'Person_7', 'Age': 37, 'City': 'City_B', 'Occupation': 'Job_7'}\n",
      "{'ID': 8, 'Name': 'Person_8', 'Age': 38, 'City': 'City_B', 'Occupation': 'Job_8'}\n"
     ]
    }
   ],
   "source": [
    "def people_2():\n",
    "    for i in range(3, 9):\n",
    "        yield {\"ID\": i, \"Name\": f\"Person_{i}\", \"Age\": 30 + i, \"City\": \"City_B\", \"Occupation\": f\"Job_{i}\"}\n",
    "\n",
    "\n",
    "for person in people_2():\n",
    "    print(person)"
   ]
  },
  {
   "cell_type": "code",
   "execution_count": 115,
   "id": "1ae6a75c",
   "metadata": {},
   "outputs": [
    {
     "name": "stdout",
     "output_type": "stream",
     "text": [
      "Pipeline dlt_ipykernel_launcher load step completed in 0.27 seconds\n",
      "1 load package(s) were loaded to destination duckdb and into dataset peopleset\n",
      "The duckdb destination used duckdb:///C:\\Users\\scl\\dlt_ipykernel_launcher.duckdb location to store data\n",
      "Load package 1708155976.3690548 is LOADED and contains no failed jobs\n"
     ]
    }
   ],
   "source": [
    "# define the connection to load to.\n",
    "pipeline = dlt.pipeline(destination='duckdb', dataset_name='peopleset')\n",
    "\n",
    "# run the pipeline with default settings, and capture the outcome\n",
    "info = pipeline.run(people_1,\n",
    "                    table_name=\"peopleset\",\n",
    "                    write_disposition=\"replace\",\n",
    "                    primary_key='ID')\n",
    "\n",
    "print(info)"
   ]
  },
  {
   "cell_type": "code",
   "execution_count": 116,
   "id": "268e7445",
   "metadata": {},
   "outputs": [
    {
     "name": "stdout",
     "output_type": "stream",
     "text": [
      "Pipeline dlt_ipykernel_launcher load step completed in 0.23 seconds\n",
      "1 load package(s) were loaded to destination duckdb and into dataset peopleset\n",
      "The duckdb destination used duckdb:///C:\\Users\\scl\\dlt_ipykernel_launcher.duckdb location to store data\n",
      "Load package 1708155985.7650282 is LOADED and contains no failed jobs\n"
     ]
    }
   ],
   "source": [
    "# define the connection to load to.\n",
    "pipeline = dlt.pipeline(destination='duckdb', dataset_name='peopleset')\n",
    "\n",
    "# run the pipeline with default settings, and capture the outcome\n",
    "info = pipeline.run(people_2,\n",
    "                    table_name=\"peopleset\",\n",
    "                    write_disposition=\"append\",\n",
    "                    primary_key='ID')\n",
    "\n",
    "print(info)"
   ]
  },
  {
   "cell_type": "code",
   "execution_count": 117,
   "id": "2b10ae8d",
   "metadata": {},
   "outputs": [
    {
     "name": "stdout",
     "output_type": "stream",
     "text": [
      "Loaded tables: \n"
     ]
    },
    {
     "data": {
      "text/plain": [
       "┌─────────────────────┐\n",
       "│        name         │\n",
       "│       varchar       │\n",
       "├─────────────────────┤\n",
       "│ _dlt_loads          │\n",
       "│ _dlt_pipeline_state │\n",
       "│ _dlt_version        │\n",
       "│ peopleset           │\n",
       "└─────────────────────┘"
      ]
     },
     "metadata": {},
     "output_type": "display_data"
    },
    {
     "name": "stdout",
     "output_type": "stream",
     "text": [
      "\n",
      "\n",
      "\n",
      " People table below: Note the times are properly typed\n"
     ]
    },
    {
     "data": {
      "text/html": [
       "<div>\n",
       "<style scoped>\n",
       "    .dataframe tbody tr th:only-of-type {\n",
       "        vertical-align: middle;\n",
       "    }\n",
       "\n",
       "    .dataframe tbody tr th {\n",
       "        vertical-align: top;\n",
       "    }\n",
       "\n",
       "    .dataframe thead th {\n",
       "        text-align: right;\n",
       "    }\n",
       "</style>\n",
       "<table border=\"1\" class=\"dataframe\">\n",
       "  <thead>\n",
       "    <tr style=\"text-align: right;\">\n",
       "      <th></th>\n",
       "      <th>id</th>\n",
       "      <th>name</th>\n",
       "      <th>age</th>\n",
       "      <th>city</th>\n",
       "      <th>_dlt_load_id</th>\n",
       "      <th>_dlt_id</th>\n",
       "      <th>occupation</th>\n",
       "    </tr>\n",
       "  </thead>\n",
       "  <tbody>\n",
       "    <tr>\n",
       "      <th>0</th>\n",
       "      <td>1</td>\n",
       "      <td>Person_1</td>\n",
       "      <td>26</td>\n",
       "      <td>City_A</td>\n",
       "      <td>1708155976.3690548</td>\n",
       "      <td>8dfZK6jBldHQcw</td>\n",
       "      <td>None</td>\n",
       "    </tr>\n",
       "    <tr>\n",
       "      <th>1</th>\n",
       "      <td>2</td>\n",
       "      <td>Person_2</td>\n",
       "      <td>27</td>\n",
       "      <td>City_A</td>\n",
       "      <td>1708155976.3690548</td>\n",
       "      <td>NMzvDDkKbS8ttg</td>\n",
       "      <td>None</td>\n",
       "    </tr>\n",
       "    <tr>\n",
       "      <th>2</th>\n",
       "      <td>3</td>\n",
       "      <td>Person_3</td>\n",
       "      <td>28</td>\n",
       "      <td>City_A</td>\n",
       "      <td>1708155976.3690548</td>\n",
       "      <td>72QTgAqWh6l0oA</td>\n",
       "      <td>None</td>\n",
       "    </tr>\n",
       "    <tr>\n",
       "      <th>3</th>\n",
       "      <td>4</td>\n",
       "      <td>Person_4</td>\n",
       "      <td>29</td>\n",
       "      <td>City_A</td>\n",
       "      <td>1708155976.3690548</td>\n",
       "      <td>OMzrqC/T5FpFqA</td>\n",
       "      <td>None</td>\n",
       "    </tr>\n",
       "    <tr>\n",
       "      <th>4</th>\n",
       "      <td>5</td>\n",
       "      <td>Person_5</td>\n",
       "      <td>30</td>\n",
       "      <td>City_A</td>\n",
       "      <td>1708155976.3690548</td>\n",
       "      <td>dNnUqt6Y/0Jw/w</td>\n",
       "      <td>None</td>\n",
       "    </tr>\n",
       "    <tr>\n",
       "      <th>5</th>\n",
       "      <td>3</td>\n",
       "      <td>Person_3</td>\n",
       "      <td>33</td>\n",
       "      <td>City_B</td>\n",
       "      <td>1708155985.7650282</td>\n",
       "      <td>WuRGyfN4wA3rJA</td>\n",
       "      <td>Job_3</td>\n",
       "    </tr>\n",
       "    <tr>\n",
       "      <th>6</th>\n",
       "      <td>4</td>\n",
       "      <td>Person_4</td>\n",
       "      <td>34</td>\n",
       "      <td>City_B</td>\n",
       "      <td>1708155985.7650282</td>\n",
       "      <td>Klh8P1S5palEVw</td>\n",
       "      <td>Job_4</td>\n",
       "    </tr>\n",
       "    <tr>\n",
       "      <th>7</th>\n",
       "      <td>5</td>\n",
       "      <td>Person_5</td>\n",
       "      <td>35</td>\n",
       "      <td>City_B</td>\n",
       "      <td>1708155985.7650282</td>\n",
       "      <td>XuVUukMV3s79Tg</td>\n",
       "      <td>Job_5</td>\n",
       "    </tr>\n",
       "    <tr>\n",
       "      <th>8</th>\n",
       "      <td>6</td>\n",
       "      <td>Person_6</td>\n",
       "      <td>36</td>\n",
       "      <td>City_B</td>\n",
       "      <td>1708155985.7650282</td>\n",
       "      <td>cSgrX9/wYsIcAA</td>\n",
       "      <td>Job_6</td>\n",
       "    </tr>\n",
       "    <tr>\n",
       "      <th>9</th>\n",
       "      <td>7</td>\n",
       "      <td>Person_7</td>\n",
       "      <td>37</td>\n",
       "      <td>City_B</td>\n",
       "      <td>1708155985.7650282</td>\n",
       "      <td>7Bv2dOhM/evTcg</td>\n",
       "      <td>Job_7</td>\n",
       "    </tr>\n",
       "    <tr>\n",
       "      <th>10</th>\n",
       "      <td>8</td>\n",
       "      <td>Person_8</td>\n",
       "      <td>38</td>\n",
       "      <td>City_B</td>\n",
       "      <td>1708155985.7650282</td>\n",
       "      <td>dbrCVbSCw14n0w</td>\n",
       "      <td>Job_8</td>\n",
       "    </tr>\n",
       "  </tbody>\n",
       "</table>\n",
       "</div>"
      ],
      "text/plain": [
       "    id      name  age    city        _dlt_load_id         _dlt_id occupation\n",
       "0    1  Person_1   26  City_A  1708155976.3690548  8dfZK6jBldHQcw       None\n",
       "1    2  Person_2   27  City_A  1708155976.3690548  NMzvDDkKbS8ttg       None\n",
       "2    3  Person_3   28  City_A  1708155976.3690548  72QTgAqWh6l0oA       None\n",
       "3    4  Person_4   29  City_A  1708155976.3690548  OMzrqC/T5FpFqA       None\n",
       "4    5  Person_5   30  City_A  1708155976.3690548  dNnUqt6Y/0Jw/w       None\n",
       "5    3  Person_3   33  City_B  1708155985.7650282  WuRGyfN4wA3rJA      Job_3\n",
       "6    4  Person_4   34  City_B  1708155985.7650282  Klh8P1S5palEVw      Job_4\n",
       "7    5  Person_5   35  City_B  1708155985.7650282  XuVUukMV3s79Tg      Job_5\n",
       "8    6  Person_6   36  City_B  1708155985.7650282  cSgrX9/wYsIcAA      Job_6\n",
       "9    7  Person_7   37  City_B  1708155985.7650282  7Bv2dOhM/evTcg      Job_7\n",
       "10   8  Person_8   38  City_B  1708155985.7650282  dbrCVbSCw14n0w      Job_8"
      ]
     },
     "metadata": {},
     "output_type": "display_data"
    }
   ],
   "source": [
    "# show outcome\n",
    "\n",
    "import duckdb\n",
    "\n",
    "conn = duckdb.connect(f\"{pipeline.pipeline_name}.duckdb\")\n",
    "\n",
    "# let's see the tables\n",
    "conn.sql(f\"SET search_path = '{pipeline.dataset_name}'\")\n",
    "print('Loaded tables: ')\n",
    "display(conn.sql(\"show tables\"))\n",
    "\n",
    "print(\"\\n\\n\\n People table below: Note the times are properly typed\")\n",
    "people = conn.sql(\"SELECT * FROM peopleset\").df()\n",
    "display(people)\n"
   ]
  },
  {
   "cell_type": "code",
   "execution_count": 118,
   "id": "7e36760a",
   "metadata": {},
   "outputs": [
    {
     "data": {
      "text/html": [
       "<div>\n",
       "<style scoped>\n",
       "    .dataframe tbody tr th:only-of-type {\n",
       "        vertical-align: middle;\n",
       "    }\n",
       "\n",
       "    .dataframe tbody tr th {\n",
       "        vertical-align: top;\n",
       "    }\n",
       "\n",
       "    .dataframe thead th {\n",
       "        text-align: right;\n",
       "    }\n",
       "</style>\n",
       "<table border=\"1\" class=\"dataframe\">\n",
       "  <thead>\n",
       "    <tr style=\"text-align: right;\">\n",
       "      <th></th>\n",
       "      <th>sum(age)</th>\n",
       "    </tr>\n",
       "  </thead>\n",
       "  <tbody>\n",
       "    <tr>\n",
       "      <th>0</th>\n",
       "      <td>353.0</td>\n",
       "    </tr>\n",
       "  </tbody>\n",
       "</table>\n",
       "</div>"
      ],
      "text/plain": [
       "   sum(age)\n",
       "0     353.0"
      ]
     },
     "metadata": {},
     "output_type": "display_data"
    }
   ],
   "source": [
    "age = conn.sql(\"select sum(age) from peopleset\").df()\n",
    "display(age)"
   ]
  },
  {
   "cell_type": "code",
   "execution_count": 110,
   "id": "fe1ce6b8",
   "metadata": {},
   "outputs": [
    {
     "name": "stdout",
     "output_type": "stream",
     "text": [
      "Pipeline dlt_ipykernel_launcher load step completed in 0.26 seconds\n",
      "1 load package(s) were loaded to destination duckdb and into dataset merge_people\n",
      "The duckdb destination used duckdb:///C:\\Users\\scl\\dlt_ipykernel_launcher.duckdb location to store data\n",
      "Load package 1708155801.526567 is LOADED and contains no failed jobs\n"
     ]
    }
   ],
   "source": [
    "# define the connection to load to.\n",
    "pipeline = dlt.pipeline(destination='duckdb', dataset_name='merge_people')\n",
    "\n",
    "# run the pipeline with default settings, and capture the outcome\n",
    "info = pipeline.run(people_1,\n",
    "                    table_name=\"merge_people\",\n",
    "                    write_disposition=\"replace\",\n",
    "                    primary_key='ID')\n",
    "\n",
    "print(info)"
   ]
  },
  {
   "cell_type": "code",
   "execution_count": 112,
   "id": "d39b781e",
   "metadata": {},
   "outputs": [
    {
     "name": "stdout",
     "output_type": "stream",
     "text": [
      "Pipeline dlt_ipykernel_launcher load step completed in 0.41 seconds\n",
      "1 load package(s) were loaded to destination duckdb and into dataset merge_people\n",
      "The duckdb destination used duckdb:///C:\\Users\\scl\\dlt_ipykernel_launcher.duckdb location to store data\n",
      "Load package 1708155875.2275379 is LOADED and contains no failed jobs\n"
     ]
    }
   ],
   "source": [
    "# define the connection to load to.\n",
    "pipeline = dlt.pipeline(destination='duckdb', dataset_name='merge_people')\n",
    "\n",
    "# run the pipeline with default settings, and capture the outcome\n",
    "info = pipeline.run(people_2,\n",
    "                    table_name=\"merge_people\",\n",
    "                    write_disposition=\"merge\",\n",
    "                    primary_key='ID')\n",
    "\n",
    "print(info)"
   ]
  },
  {
   "cell_type": "code",
   "execution_count": 113,
   "id": "2346a3ed",
   "metadata": {},
   "outputs": [
    {
     "name": "stdout",
     "output_type": "stream",
     "text": [
      "Loaded tables: \n"
     ]
    },
    {
     "data": {
      "text/plain": [
       "┌─────────────────────┐\n",
       "│        name         │\n",
       "│       varchar       │\n",
       "├─────────────────────┤\n",
       "│ _dlt_loads          │\n",
       "│ _dlt_pipeline_state │\n",
       "│ _dlt_version        │\n",
       "│ merge_people        │\n",
       "└─────────────────────┘"
      ]
     },
     "metadata": {},
     "output_type": "display_data"
    },
    {
     "name": "stdout",
     "output_type": "stream",
     "text": [
      "\n",
      "\n",
      "\n",
      " People table below: Note the times are properly typed\n"
     ]
    },
    {
     "data": {
      "text/html": [
       "<div>\n",
       "<style scoped>\n",
       "    .dataframe tbody tr th:only-of-type {\n",
       "        vertical-align: middle;\n",
       "    }\n",
       "\n",
       "    .dataframe tbody tr th {\n",
       "        vertical-align: top;\n",
       "    }\n",
       "\n",
       "    .dataframe thead th {\n",
       "        text-align: right;\n",
       "    }\n",
       "</style>\n",
       "<table border=\"1\" class=\"dataframe\">\n",
       "  <thead>\n",
       "    <tr style=\"text-align: right;\">\n",
       "      <th></th>\n",
       "      <th>id</th>\n",
       "      <th>name</th>\n",
       "      <th>age</th>\n",
       "      <th>city</th>\n",
       "      <th>_dlt_load_id</th>\n",
       "      <th>_dlt_id</th>\n",
       "      <th>occupation</th>\n",
       "    </tr>\n",
       "  </thead>\n",
       "  <tbody>\n",
       "    <tr>\n",
       "      <th>0</th>\n",
       "      <td>1</td>\n",
       "      <td>Person_1</td>\n",
       "      <td>26</td>\n",
       "      <td>City_A</td>\n",
       "      <td>1708155801.526567</td>\n",
       "      <td>DfzfSekPk1OqCw</td>\n",
       "      <td>None</td>\n",
       "    </tr>\n",
       "    <tr>\n",
       "      <th>1</th>\n",
       "      <td>2</td>\n",
       "      <td>Person_2</td>\n",
       "      <td>27</td>\n",
       "      <td>City_A</td>\n",
       "      <td>1708155801.526567</td>\n",
       "      <td>zTF8eMIZeB632g</td>\n",
       "      <td>None</td>\n",
       "    </tr>\n",
       "    <tr>\n",
       "      <th>2</th>\n",
       "      <td>8</td>\n",
       "      <td>Person_8</td>\n",
       "      <td>38</td>\n",
       "      <td>City_B</td>\n",
       "      <td>1708155875.2275379</td>\n",
       "      <td>pddXHugbidBPYg</td>\n",
       "      <td>Job_8</td>\n",
       "    </tr>\n",
       "    <tr>\n",
       "      <th>3</th>\n",
       "      <td>4</td>\n",
       "      <td>Person_4</td>\n",
       "      <td>34</td>\n",
       "      <td>City_B</td>\n",
       "      <td>1708155875.2275379</td>\n",
       "      <td>4oA6ME7zsdftLw</td>\n",
       "      <td>Job_4</td>\n",
       "    </tr>\n",
       "    <tr>\n",
       "      <th>4</th>\n",
       "      <td>5</td>\n",
       "      <td>Person_5</td>\n",
       "      <td>35</td>\n",
       "      <td>City_B</td>\n",
       "      <td>1708155875.2275379</td>\n",
       "      <td>uWTFKnoX8s/Gfw</td>\n",
       "      <td>Job_5</td>\n",
       "    </tr>\n",
       "    <tr>\n",
       "      <th>5</th>\n",
       "      <td>3</td>\n",
       "      <td>Person_3</td>\n",
       "      <td>33</td>\n",
       "      <td>City_B</td>\n",
       "      <td>1708155875.2275379</td>\n",
       "      <td>H7oSf34l0PG+Bg</td>\n",
       "      <td>Job_3</td>\n",
       "    </tr>\n",
       "    <tr>\n",
       "      <th>6</th>\n",
       "      <td>6</td>\n",
       "      <td>Person_6</td>\n",
       "      <td>36</td>\n",
       "      <td>City_B</td>\n",
       "      <td>1708155875.2275379</td>\n",
       "      <td>XGn5dbT+08YD+Q</td>\n",
       "      <td>Job_6</td>\n",
       "    </tr>\n",
       "    <tr>\n",
       "      <th>7</th>\n",
       "      <td>7</td>\n",
       "      <td>Person_7</td>\n",
       "      <td>37</td>\n",
       "      <td>City_B</td>\n",
       "      <td>1708155875.2275379</td>\n",
       "      <td>h/32mjx5OfGK2A</td>\n",
       "      <td>Job_7</td>\n",
       "    </tr>\n",
       "  </tbody>\n",
       "</table>\n",
       "</div>"
      ],
      "text/plain": [
       "   id      name  age    city        _dlt_load_id         _dlt_id occupation\n",
       "0   1  Person_1   26  City_A   1708155801.526567  DfzfSekPk1OqCw       None\n",
       "1   2  Person_2   27  City_A   1708155801.526567  zTF8eMIZeB632g       None\n",
       "2   8  Person_8   38  City_B  1708155875.2275379  pddXHugbidBPYg      Job_8\n",
       "3   4  Person_4   34  City_B  1708155875.2275379  4oA6ME7zsdftLw      Job_4\n",
       "4   5  Person_5   35  City_B  1708155875.2275379  uWTFKnoX8s/Gfw      Job_5\n",
       "5   3  Person_3   33  City_B  1708155875.2275379  H7oSf34l0PG+Bg      Job_3\n",
       "6   6  Person_6   36  City_B  1708155875.2275379  XGn5dbT+08YD+Q      Job_6\n",
       "7   7  Person_7   37  City_B  1708155875.2275379  h/32mjx5OfGK2A      Job_7"
      ]
     },
     "metadata": {},
     "output_type": "display_data"
    }
   ],
   "source": [
    "\n",
    "import duckdb\n",
    "\n",
    "conn = duckdb.connect(f\"{pipeline.pipeline_name}.duckdb\")\n",
    "\n",
    "# let's see the tables\n",
    "conn.sql(f\"SET search_path = '{pipeline.dataset_name}'\")\n",
    "print('Loaded tables: ')\n",
    "display(conn.sql(\"show tables\"))\n",
    "\n",
    "print(\"\\n\\n\\n People table below: Note the times are properly typed\")\n",
    "people = conn.sql(\"SELECT * FROM merge_people\").df()\n",
    "display(people)\n"
   ]
  },
  {
   "cell_type": "code",
   "execution_count": 114,
   "id": "733eb772",
   "metadata": {},
   "outputs": [
    {
     "data": {
      "text/html": [
       "<div>\n",
       "<style scoped>\n",
       "    .dataframe tbody tr th:only-of-type {\n",
       "        vertical-align: middle;\n",
       "    }\n",
       "\n",
       "    .dataframe tbody tr th {\n",
       "        vertical-align: top;\n",
       "    }\n",
       "\n",
       "    .dataframe thead th {\n",
       "        text-align: right;\n",
       "    }\n",
       "</style>\n",
       "<table border=\"1\" class=\"dataframe\">\n",
       "  <thead>\n",
       "    <tr style=\"text-align: right;\">\n",
       "      <th></th>\n",
       "      <th>sum(age)</th>\n",
       "    </tr>\n",
       "  </thead>\n",
       "  <tbody>\n",
       "    <tr>\n",
       "      <th>0</th>\n",
       "      <td>266.0</td>\n",
       "    </tr>\n",
       "  </tbody>\n",
       "</table>\n",
       "</div>"
      ],
      "text/plain": [
       "   sum(age)\n",
       "0     266.0"
      ]
     },
     "metadata": {},
     "output_type": "display_data"
    }
   ],
   "source": [
    "merge_age = conn.sql(\"select sum(age) from merge_people\").df()\n",
    "display(merge_age)"
   ]
  },
  {
   "cell_type": "code",
   "execution_count": null,
   "id": "e0ce4581",
   "metadata": {},
   "outputs": [],
   "source": []
  }
 ],
 "metadata": {
  "kernelspec": {
   "display_name": "Python 3 (ipykernel)",
   "language": "python",
   "name": "python3"
  },
  "language_info": {
   "codemirror_mode": {
    "name": "ipython",
    "version": 3
   },
   "file_extension": ".py",
   "mimetype": "text/x-python",
   "name": "python",
   "nbconvert_exporter": "python",
   "pygments_lexer": "ipython3",
   "version": "3.11.5"
  },
  "varInspector": {
   "cols": {
    "lenName": 16,
    "lenType": 16,
    "lenVar": 40
   },
   "kernels_config": {
    "python": {
     "delete_cmd_postfix": "",
     "delete_cmd_prefix": "del ",
     "library": "var_list.py",
     "varRefreshCmd": "print(var_dic_list())"
    },
    "r": {
     "delete_cmd_postfix": ") ",
     "delete_cmd_prefix": "rm(",
     "library": "var_list.r",
     "varRefreshCmd": "cat(var_dic_list()) "
    }
   },
   "types_to_exclude": [
    "module",
    "function",
    "builtin_function_or_method",
    "instance",
    "_Feature"
   ],
   "window_display": false
  }
 },
 "nbformat": 4,
 "nbformat_minor": 5
}
